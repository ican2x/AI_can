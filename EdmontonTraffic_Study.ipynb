{
 "cells": [
  {
   "cell_type": "code",
   "execution_count": 1,
   "metadata": {},
   "outputs": [],
   "source": [
    "import numpy as np\n",
    "import pandas as pd\n",
    "import seaborn as sns\n",
    "import matplotlib.pyplot as plt\n",
    "plt.rcParams[\"figure.figsize\"] = (8,8)\n",
    "import math\n",
    "import random\n",
    "from scipy.stats import normaltest"
   ]
  },
  {
   "cell_type": "markdown",
   "metadata": {},
   "source": [
    "<h1>Where are all my speeding tickets most likely to come from?</h1>\n",
    "\n",
    "With our three data sources merged from Open Edmonton, we are ready to explore the photo radar and photo truck ticketing in Edmonton. I dealt with Nulls in the last booklet when preparing our data. You'll find that the file created is so massive that you can't host it in Github!\n",
    " \n",
    "<h3> Assumptions </h3>\n",
    "</u>\n",
    "<li> All photo radar trucks operate on the same rules. No operator is making their own decisions on giving people tickets, the machine is treating all vehicles the same.\n",
    "<li> All red light cameras are programmed the same. If one decides to not give a ticket when going 1-5 km over the speed limit then none of them do. "
   ]
  },
  {
   "cell_type": "code",
   "execution_count": 2,
   "metadata": {},
   "outputs": [
    {
     "data": {
      "text/html": [
       "<div>\n",
       "<style scoped>\n",
       "    .dataframe tbody tr th:only-of-type {\n",
       "        vertical-align: middle;\n",
       "    }\n",
       "\n",
       "    .dataframe tbody tr th {\n",
       "        vertical-align: top;\n",
       "    }\n",
       "\n",
       "    .dataframe thead th {\n",
       "        text-align: right;\n",
       "    }\n",
       "</style>\n",
       "<table border=\"1\" class=\"dataframe\">\n",
       "  <thead>\n",
       "    <tr style=\"text-align: right;\">\n",
       "      <th></th>\n",
       "      <th>Site ID</th>\n",
       "      <th>Location</th>\n",
       "      <th>Enforced Speed Limit</th>\n",
       "      <th>Month End Date</th>\n",
       "      <th>1-5 Over Speed Limit</th>\n",
       "      <th>6-10 Over Speed Limit</th>\n",
       "      <th>11-15 Over Speed Limit</th>\n",
       "      <th>16-20 Over Speed Limit</th>\n",
       "      <th>21-50 Over Speed Limit</th>\n",
       "      <th>51+ Over Speed Limit</th>\n",
       "      <th>Total Speeding Tickets</th>\n",
       "      <th>Latitude</th>\n",
       "      <th>Longitude</th>\n",
       "      <th>Red_Truck</th>\n",
       "      <th>Deployment Hours</th>\n",
       "      <th>Total Red Light Tickets</th>\n",
       "      <th>Year</th>\n",
       "      <th>Average Daily Volume</th>\n",
       "      <th>Month</th>\n",
       "    </tr>\n",
       "  </thead>\n",
       "  <tbody>\n",
       "    <tr>\n",
       "      <th>0</th>\n",
       "      <td>7131</td>\n",
       "      <td>WB Anthony Henday Dr at 34 St</td>\n",
       "      <td>100</td>\n",
       "      <td>2019-08-31</td>\n",
       "      <td>0</td>\n",
       "      <td>0</td>\n",
       "      <td>4</td>\n",
       "      <td>6</td>\n",
       "      <td>1</td>\n",
       "      <td>0</td>\n",
       "      <td>11</td>\n",
       "      <td>53.435731</td>\n",
       "      <td>-113.395537</td>\n",
       "      <td>0</td>\n",
       "      <td>1.5</td>\n",
       "      <td>0</td>\n",
       "      <td>2019</td>\n",
       "      <td>2400.0</td>\n",
       "      <td>8</td>\n",
       "    </tr>\n",
       "    <tr>\n",
       "      <th>1</th>\n",
       "      <td>7131</td>\n",
       "      <td>WB Anthony Henday Dr at 34 St</td>\n",
       "      <td>100</td>\n",
       "      <td>2019-08-31</td>\n",
       "      <td>0</td>\n",
       "      <td>0</td>\n",
       "      <td>4</td>\n",
       "      <td>6</td>\n",
       "      <td>1</td>\n",
       "      <td>0</td>\n",
       "      <td>11</td>\n",
       "      <td>53.435731</td>\n",
       "      <td>-113.395537</td>\n",
       "      <td>0</td>\n",
       "      <td>1.5</td>\n",
       "      <td>0</td>\n",
       "      <td>2019</td>\n",
       "      <td>2400.0</td>\n",
       "      <td>8</td>\n",
       "    </tr>\n",
       "  </tbody>\n",
       "</table>\n",
       "</div>"
      ],
      "text/plain": [
       "  Site ID                       Location  Enforced Speed Limit Month End Date  \\\n",
       "0    7131  WB Anthony Henday Dr at 34 St                   100     2019-08-31   \n",
       "1    7131  WB Anthony Henday Dr at 34 St                   100     2019-08-31   \n",
       "\n",
       "   1-5 Over Speed Limit  6-10 Over Speed Limit  11-15 Over Speed Limit  \\\n",
       "0                     0                      0                       4   \n",
       "1                     0                      0                       4   \n",
       "\n",
       "   16-20 Over Speed Limit  21-50 Over Speed Limit  51+ Over Speed Limit  \\\n",
       "0                       6                       1                     0   \n",
       "1                       6                       1                     0   \n",
       "\n",
       "   Total Speeding Tickets   Latitude   Longitude  Red_Truck  Deployment Hours  \\\n",
       "0                      11  53.435731 -113.395537          0               1.5   \n",
       "1                      11  53.435731 -113.395537          0               1.5   \n",
       "\n",
       "   Total Red Light Tickets  Year  Average Daily Volume  Month  \n",
       "0                        0  2019                2400.0      8  \n",
       "1                        0  2019                2400.0      8  "
      ]
     },
     "execution_count": 2,
     "metadata": {},
     "output_type": "execute_result"
    }
   ],
   "source": [
    "df1=pd.read_csv('data/EdmontonTraffic.csv', parse_dates=[3], infer_datetime_format=True, dtype={0:'string'})\n",
    "df1.head(2)"
   ]
  },
  {
   "cell_type": "code",
   "execution_count": 3,
   "metadata": {},
   "outputs": [
    {
     "name": "stdout",
     "output_type": "stream",
     "text": [
      "<class 'pandas.core.frame.DataFrame'>\n",
      "RangeIndex: 1359159 entries, 0 to 1359158\n",
      "Data columns (total 19 columns):\n",
      " #   Column                   Non-Null Count    Dtype         \n",
      "---  ------                   --------------    -----         \n",
      " 0   Site ID                  1359159 non-null  string        \n",
      " 1   Location                 1359159 non-null  object        \n",
      " 2   Enforced Speed Limit     1359159 non-null  int64         \n",
      " 3   Month End Date           1359159 non-null  datetime64[ns]\n",
      " 4   1-5 Over Speed Limit     1359159 non-null  int64         \n",
      " 5   6-10 Over Speed Limit    1359159 non-null  int64         \n",
      " 6   11-15 Over Speed Limit   1359159 non-null  int64         \n",
      " 7   16-20 Over Speed Limit   1359159 non-null  int64         \n",
      " 8   21-50 Over Speed Limit   1359159 non-null  int64         \n",
      " 9   51+ Over Speed Limit     1359159 non-null  int64         \n",
      " 10  Total Speeding Tickets   1359159 non-null  int64         \n",
      " 11  Latitude                 1359159 non-null  float64       \n",
      " 12  Longitude                1359159 non-null  float64       \n",
      " 13  Red_Truck                1359159 non-null  int64         \n",
      " 14  Deployment Hours         1359159 non-null  float64       \n",
      " 15  Total Red Light Tickets  1359159 non-null  int64         \n",
      " 16  Year                     1359159 non-null  int64         \n",
      " 17  Average Daily Volume     1359159 non-null  float64       \n",
      " 18  Month                    1359159 non-null  int64         \n",
      "dtypes: datetime64[ns](1), float64(4), int64(12), object(1), string(1)\n",
      "memory usage: 197.0+ MB\n"
     ]
    }
   ],
   "source": [
    "df1.info()"
   ]
  },
  {
   "cell_type": "code",
   "execution_count": 4,
   "metadata": {},
   "outputs": [],
   "source": [
    "df1.rename(columns = {'Total Speeding Tickets':'radar_truck_tix','Total Red Light Tickets':'red_light_tix', 'Red_Truck':'red_light'}, inplace = True)"
   ]
  },
  {
   "cell_type": "markdown",
   "metadata": {},
   "source": [
    "### Choose subset of columns to look at"
   ]
  },
  {
   "cell_type": "code",
   "execution_count": 5,
   "metadata": {},
   "outputs": [],
   "source": [
    "df1=df1[['Location', 'Enforced Speed Limit',\n",
    "       '1-5 Over Speed Limit', '6-10 Over Speed Limit',\n",
    "       '11-15 Over Speed Limit', '16-20 Over Speed Limit',\n",
    "       '21-50 Over Speed Limit', '51+ Over Speed Limit', 'radar_truck_tix',\n",
    "       'red_light', 'Deployment Hours',\n",
    "       'red_light_tix', 'Average Daily Volume', 'Month']]"
   ]
  },
  {
   "cell_type": "markdown",
   "metadata": {},
   "source": [
    "## Create columns Total Tickets by incident and Average tickets/hr"
   ]
  },
  {
   "cell_type": "code",
   "execution_count": 6,
   "metadata": {},
   "outputs": [],
   "source": [
    "df1[\"Total Tickets\"]= df1['radar_truck_tix']+df1['red_light_tix']"
   ]
  },
  {
   "cell_type": "code",
   "execution_count": 7,
   "metadata": {},
   "outputs": [],
   "source": [
    "df1['avgtickets_hr_total']=df1['Total Tickets']/df1[\"Deployment Hours\"]"
   ]
  },
  {
   "cell_type": "markdown",
   "metadata": {},
   "source": [
    "## we won't consider events that resulted in zero tickets and drop those. "
   ]
  },
  {
   "cell_type": "code",
   "execution_count": 8,
   "metadata": {},
   "outputs": [],
   "source": [
    "df1=df1[df1['Total Tickets']!=0]"
   ]
  },
  {
   "cell_type": "markdown",
   "metadata": {},
   "source": [
    "### Asking Questions:\n",
    "#### Basic Stats around Red-Light Tickets Vrs Radar Truck tickets"
   ]
  },
  {
   "cell_type": "code",
   "execution_count": 9,
   "metadata": {},
   "outputs": [
    {
     "data": {
      "text/plain": [
       "(0.0, 12567.4)"
      ]
     },
     "execution_count": 9,
     "metadata": {},
     "output_type": "execute_result"
    },
    {
     "data": {
      "image/png": "[encoded data removed]",
      "text/plain": [
       "<Figure size 1440x720 with 1 Axes>"
      ]
     },
     "metadata": {
      "needs_background": "light"
     },
     "output_type": "display_data"
    }
   ],
   "source": [
    "fig, ax = plt.subplots(1,1, figsize=(20,10))\n",
    "\n",
    "sns.histplot(\n",
    "    data=df1.loc[(df1['Total Tickets'] !=0)],\n",
    "    x='Total Tickets',\n",
    "    ax=ax,\n",
    "    bins=100,\n",
    "    kde=True,\n",
    "    hue=\"red_light\"\n",
    ")\n",
    "ax.set_xlim(0)"
   ]
  },
  {
   "cell_type": "code",
   "execution_count": 11,
   "metadata": {},
   "outputs": [],
   "source": [
    "df=df1.copy()"
   ]
  },
  {
   "cell_type": "markdown",
   "metadata": {},
   "source": [
    "### Ticket distribution is FAR different between 0 (radar tickets) and 1 (red light tickets) populations.  Now let's statistically compare the red light ticket numbers to the radar truck ticket numbers and also test if distributions are normal or log normal at p=0.05. (we can already see they are exponential but why not test.)"
   ]
  },
  {
   "cell_type": "code",
   "execution_count": 12,
   "metadata": {},
   "outputs": [],
   "source": [
    "def groupby_var(a, b, df=df):\n",
    "    return df.groupby(a).agg(\n",
    "        mean_all=(b, \"mean\"),\n",
    "        std_all=(b, \"std\"),\n",
    "        n_in_group=(b, \"count\"),\n",
    "        mean_red=(b, lambda x: np.mean(x[x!=0])),\n",
    "        std_red=(b, lambda x: np.std(x[x!=0])),\n",
    "        n_red=(b, lambda x: sum(x != 0)),\n",
    "        #normal test returns p\n",
    "        normal_test=(b, lambda x: normaltest(x)[1]),\n",
    "        #normal test on log Revenue returns p\n",
    "        lognormal_test=(b, lambda x: normaltest(np.log(x[x!=0]))[1]),\n",
    "        ).round(2)"
   ]
  },
  {
   "cell_type": "code",
   "execution_count": 13,
   "metadata": {},
   "outputs": [
    {
     "data": {
      "text/html": [
       "<div>\n",
       "<style scoped>\n",
       "    .dataframe tbody tr th:only-of-type {\n",
       "        vertical-align: middle;\n",
       "    }\n",
       "\n",
       "    .dataframe tbody tr th {\n",
       "        vertical-align: top;\n",
       "    }\n",
       "\n",
       "    .dataframe thead th {\n",
       "        text-align: right;\n",
       "    }\n",
       "</style>\n",
       "<table border=\"1\" class=\"dataframe\">\n",
       "  <thead>\n",
       "    <tr style=\"text-align: right;\">\n",
       "      <th></th>\n",
       "      <th>mean_all</th>\n",
       "      <th>std_all</th>\n",
       "      <th>n_in_group</th>\n",
       "      <th>mean_red</th>\n",
       "      <th>std_red</th>\n",
       "      <th>n_red</th>\n",
       "      <th>normal_test</th>\n",
       "      <th>lognormal_test</th>\n",
       "    </tr>\n",
       "    <tr>\n",
       "      <th>red_light</th>\n",
       "      <th></th>\n",
       "      <th></th>\n",
       "      <th></th>\n",
       "      <th></th>\n",
       "      <th></th>\n",
       "      <th></th>\n",
       "      <th></th>\n",
       "      <th></th>\n",
       "    </tr>\n",
       "  </thead>\n",
       "  <tbody>\n",
       "    <tr>\n",
       "      <th>0</th>\n",
       "      <td>60.94</td>\n",
       "      <td>153.22</td>\n",
       "      <td>890252</td>\n",
       "      <td>60.94</td>\n",
       "      <td>153.22</td>\n",
       "      <td>890252</td>\n",
       "      <td>0.0</td>\n",
       "      <td>0.0</td>\n",
       "    </tr>\n",
       "    <tr>\n",
       "      <th>1</th>\n",
       "      <td>281.60</td>\n",
       "      <td>580.22</td>\n",
       "      <td>409267</td>\n",
       "      <td>281.60</td>\n",
       "      <td>580.22</td>\n",
       "      <td>409267</td>\n",
       "      <td>0.0</td>\n",
       "      <td>0.0</td>\n",
       "    </tr>\n",
       "  </tbody>\n",
       "</table>\n",
       "</div>"
      ],
      "text/plain": [
       "           mean_all  std_all  n_in_group  mean_red  std_red   n_red  \\\n",
       "red_light                                                             \n",
       "0             60.94   153.22      890252     60.94   153.22  890252   \n",
       "1            281.60   580.22      409267    281.60   580.22  409267   \n",
       "\n",
       "           normal_test  lognormal_test  \n",
       "red_light                               \n",
       "0                  0.0             0.0  \n",
       "1                  0.0             0.0  "
      ]
     },
     "execution_count": 13,
     "metadata": {},
     "output_type": "execute_result"
    }
   ],
   "source": [
    "groupby_var('red_light', \"Total Tickets\")"
   ]
  },
  {
   "cell_type": "code",
   "execution_count": 14,
   "metadata": {},
   "outputs": [
    {
     "data": {
      "text/plain": [
       "<AxesSubplot:xlabel='Total Tickets', ylabel='Density'>"
      ]
     },
     "execution_count": 14,
     "metadata": {},
     "output_type": "execute_result"
    },
    {
     "data": {
      "image/png": "[encoded data removed]",
      "text/plain": [
       "<Figure size 1080x360 with 3 Axes>"
      ]
     },
     "metadata": {
      "needs_background": "light"
     },
     "output_type": "display_data"
    }
   ],
   "source": [
    "plt.rcParams[\"figure.figsize\"] = (15,5)\n",
    "fig, ax = plt.subplots(1,3)\n",
    "sns.histplot(data=df, x=\"Total Tickets\", color=\"blue\", ax=ax[0])\n",
    "sns.kdeplot(data=df, x=\"Total Tickets\", color=\"green\", ax=ax[1])\n",
    "sns.kdeplot(data=df, x=\"Total Tickets\", color=\"red\", cumulative=True, ax=ax[2])"
   ]
  },
  {
   "cell_type": "markdown",
   "metadata": {},
   "source": [
    "### Tickets are exponentially distribution.\n",
    "### You are over four times as likely to get a Red Light Ticket then a Radar ticket.\n",
    "### With our long right tail, we have some big ticketing locations\n",
    "### let's investigate tickets type by average tickets given per hour "
   ]
  },
  {
   "cell_type": "code",
   "execution_count": 18,
   "metadata": {},
   "outputs": [
    {
     "data": {
      "text/html": [
       "<div>\n",
       "<style scoped>\n",
       "    .dataframe tbody tr th:only-of-type {\n",
       "        vertical-align: middle;\n",
       "    }\n",
       "\n",
       "    .dataframe tbody tr th {\n",
       "        vertical-align: top;\n",
       "    }\n",
       "\n",
       "    .dataframe thead th {\n",
       "        text-align: right;\n",
       "    }\n",
       "</style>\n",
       "<table border=\"1\" class=\"dataframe\">\n",
       "  <thead>\n",
       "    <tr style=\"text-align: right;\">\n",
       "      <th></th>\n",
       "      <th>mean_all</th>\n",
       "      <th>std_all</th>\n",
       "      <th>n_in_group</th>\n",
       "      <th>mean_red</th>\n",
       "      <th>std_red</th>\n",
       "      <th>n_red</th>\n",
       "      <th>normal_test</th>\n",
       "      <th>lognormal_test</th>\n",
       "    </tr>\n",
       "    <tr>\n",
       "      <th>red_light</th>\n",
       "      <th></th>\n",
       "      <th></th>\n",
       "      <th></th>\n",
       "      <th></th>\n",
       "      <th></th>\n",
       "      <th></th>\n",
       "      <th></th>\n",
       "      <th></th>\n",
       "    </tr>\n",
       "  </thead>\n",
       "  <tbody>\n",
       "    <tr>\n",
       "      <th>0</th>\n",
       "      <td>2.71</td>\n",
       "      <td>4.16</td>\n",
       "      <td>890252</td>\n",
       "      <td>2.71</td>\n",
       "      <td>4.16</td>\n",
       "      <td>890252</td>\n",
       "      <td>0.0</td>\n",
       "      <td>0.0</td>\n",
       "    </tr>\n",
       "    <tr>\n",
       "      <th>1</th>\n",
       "      <td>11.73</td>\n",
       "      <td>24.18</td>\n",
       "      <td>409267</td>\n",
       "      <td>11.73</td>\n",
       "      <td>24.18</td>\n",
       "      <td>409267</td>\n",
       "      <td>0.0</td>\n",
       "      <td>0.0</td>\n",
       "    </tr>\n",
       "  </tbody>\n",
       "</table>\n",
       "</div>"
      ],
      "text/plain": [
       "           mean_all  std_all  n_in_group  mean_red  std_red   n_red  \\\n",
       "red_light                                                             \n",
       "0              2.71     4.16      890252      2.71     4.16  890252   \n",
       "1             11.73    24.18      409267     11.73    24.18  409267   \n",
       "\n",
       "           normal_test  lognormal_test  \n",
       "red_light                               \n",
       "0                  0.0             0.0  \n",
       "1                  0.0             0.0  "
      ]
     },
     "execution_count": 18,
     "metadata": {},
     "output_type": "execute_result"
    }
   ],
   "source": [
    "groupby_var('red_light', 'avgtickets_hr_total')"
   ]
  },
  {
   "cell_type": "code",
   "execution_count": 17,
   "metadata": {},
   "outputs": [
    {
     "data": {
      "text/plain": [
       "<AxesSubplot:xlabel='avgtickets_hr_total', ylabel='Density'>"
      ]
     },
     "execution_count": 17,
     "metadata": {},
     "output_type": "execute_result"
    },
    {
     "data": {
      "image/png": "[encoded data removed]",
      "text/plain": [
       "<Figure size 1080x360 with 3 Axes>"
      ]
     },
     "metadata": {
      "needs_background": "light"
     },
     "output_type": "display_data"
    }
   ],
   "source": [
    "plt.rcParams[\"figure.figsize\"] = (15,5)\n",
    "fig, ax = plt.subplots(1,3)\n",
    "sns.histplot(data=df, x='avgtickets_hr_total', color=\"blue\", ax=ax[0])\n",
    "sns.kdeplot(data=df, x='avgtickets_hr_total', color=\"green\", ax=ax[1])\n",
    "sns.kdeplot(data=df, x='avgtickets_hr_total', color=\"red\", cumulative=True, ax=ax[2])"
   ]
  },
  {
   "cell_type": "markdown",
   "metadata": {},
   "source": [
    "### The same observations hold for Average tickets per hour.\n",
    "### let's find the top 1 percentile threshold of Average tickets per hour."
   ]
  },
  {
   "cell_type": "code",
   "execution_count": 23,
   "metadata": {},
   "outputs": [
    {
     "name": "stdout",
     "output_type": "stream",
     "text": [
      "top 1 percentile threshold for AVG tickets/hr is:  51.5\n"
     ]
    }
   ],
   "source": [
    "top1=np.percentile(df['avgtickets_hr_total'],99)\n",
    "print('top 1 percentile threshold for AVG tickets/hr is: ', top1)"
   ]
  },
  {
   "cell_type": "markdown",
   "metadata": {},
   "source": [
    "Even though we cleared outliers, clearly there are very few locations giving out more than 20 tickets an hour. Let's dig and FIND those locations."
   ]
  },
  {
   "cell_type": "code",
   "execution_count": 24,
   "metadata": {},
   "outputs": [],
   "source": [
    "df_50plus=df[df[avgtickets_hr_total]>top1]"
   ]
  },
  {
   "cell_type": "code",
   "execution_count": 53,
   "metadata": {},
   "outputs": [
    {
     "data": {
      "text/html": [
       "<div>\n",
       "<style scoped>\n",
       "    .dataframe tbody tr th:only-of-type {\n",
       "        vertical-align: middle;\n",
       "    }\n",
       "\n",
       "    .dataframe tbody tr th {\n",
       "        vertical-align: top;\n",
       "    }\n",
       "\n",
       "    .dataframe thead tr th {\n",
       "        text-align: left;\n",
       "    }\n",
       "\n",
       "    .dataframe thead tr:last-of-type th {\n",
       "        text-align: right;\n",
       "    }\n",
       "</style>\n",
       "<table border=\"1\" class=\"dataframe\">\n",
       "  <thead>\n",
       "    <tr>\n",
       "      <th></th>\n",
       "      <th>Enforced Speed Limit</th>\n",
       "      <th>11-15 Over Speed Limit</th>\n",
       "      <th>16-20 Over Speed Limit</th>\n",
       "      <th>21-50 Over Speed Limit</th>\n",
       "      <th>51+ Over Speed Limit</th>\n",
       "      <th>radar_truck_tix</th>\n",
       "      <th>red_light_tix</th>\n",
       "      <th>Average Daily Volume</th>\n",
       "      <th>Total Tickets</th>\n",
       "      <th colspan=\"2\" halign=\"left\">avgtickets_hr_total</th>\n",
       "    </tr>\n",
       "    <tr>\n",
       "      <th></th>\n",
       "      <th>max</th>\n",
       "      <th>sum</th>\n",
       "      <th>sum</th>\n",
       "      <th>sum</th>\n",
       "      <th>sum</th>\n",
       "      <th>sum</th>\n",
       "      <th>sum</th>\n",
       "      <th>max</th>\n",
       "      <th>sum</th>\n",
       "      <th>mean</th>\n",
       "      <th>std</th>\n",
       "    </tr>\n",
       "    <tr>\n",
       "      <th>Location</th>\n",
       "      <th></th>\n",
       "      <th></th>\n",
       "      <th></th>\n",
       "      <th></th>\n",
       "      <th></th>\n",
       "      <th></th>\n",
       "      <th></th>\n",
       "      <th></th>\n",
       "      <th></th>\n",
       "      <th></th>\n",
       "      <th></th>\n",
       "    </tr>\n",
       "  </thead>\n",
       "  <tbody>\n",
       "    <tr>\n",
       "      <th>(53.52090722245281,-113.53885659811326)</th>\n",
       "      <td>50</td>\n",
       "      <td>19278</td>\n",
       "      <td>2040</td>\n",
       "      <td>510</td>\n",
       "      <td>0</td>\n",
       "      <td>21828</td>\n",
       "      <td>0</td>\n",
       "      <td>32100.0</td>\n",
       "      <td>21828</td>\n",
       "      <td>88.550503</td>\n",
       "      <td>0.000000</td>\n",
       "    </tr>\n",
       "    <tr>\n",
       "      <th>(53.57714222000001,-113.53072240999997)</th>\n",
       "      <td>60</td>\n",
       "      <td>9620</td>\n",
       "      <td>1036</td>\n",
       "      <td>296</td>\n",
       "      <td>0</td>\n",
       "      <td>10952</td>\n",
       "      <td>0</td>\n",
       "      <td>78200.0</td>\n",
       "      <td>10952</td>\n",
       "      <td>74.000000</td>\n",
       "      <td>0.000000</td>\n",
       "    </tr>\n",
       "    <tr>\n",
       "      <th>EB Fox Dr @ Fort Edmonton Park Rd</th>\n",
       "      <td>70</td>\n",
       "      <td>417960</td>\n",
       "      <td>92232</td>\n",
       "      <td>30384</td>\n",
       "      <td>252</td>\n",
       "      <td>540828</td>\n",
       "      <td>9288</td>\n",
       "      <td>118500.0</td>\n",
       "      <td>550116</td>\n",
       "      <td>63.670833</td>\n",
       "      <td>10.129583</td>\n",
       "    </tr>\n",
       "    <tr>\n",
       "      <th>EB Yellowhead Tr @ 107 St</th>\n",
       "      <td>70</td>\n",
       "      <td>188272</td>\n",
       "      <td>26568</td>\n",
       "      <td>5904</td>\n",
       "      <td>82</td>\n",
       "      <td>220826</td>\n",
       "      <td>410</td>\n",
       "      <td>80300.0</td>\n",
       "      <td>221236</td>\n",
       "      <td>56.208333</td>\n",
       "      <td>3.636103</td>\n",
       "    </tr>\n",
       "    <tr>\n",
       "      <th>NB 50 St @ Ellerslie Rd</th>\n",
       "      <td>60</td>\n",
       "      <td>188760</td>\n",
       "      <td>37752</td>\n",
       "      <td>12624</td>\n",
       "      <td>48</td>\n",
       "      <td>239184</td>\n",
       "      <td>1272</td>\n",
       "      <td>32900.0</td>\n",
       "      <td>240456</td>\n",
       "      <td>69.576389</td>\n",
       "      <td>21.708460</td>\n",
       "    </tr>\n",
       "    <tr>\n",
       "      <th>NB 82 St @ 112 Ave</th>\n",
       "      <td>50</td>\n",
       "      <td>325210</td>\n",
       "      <td>61370</td>\n",
       "      <td>16660</td>\n",
       "      <td>0</td>\n",
       "      <td>403240</td>\n",
       "      <td>49300</td>\n",
       "      <td>28300.0</td>\n",
       "      <td>452540</td>\n",
       "      <td>55.458333</td>\n",
       "      <td>2.378500</td>\n",
       "    </tr>\n",
       "    <tr>\n",
       "      <th>NB Gateway Blvd @ 34 Ave</th>\n",
       "      <td>60</td>\n",
       "      <td>6427580</td>\n",
       "      <td>1461328</td>\n",
       "      <td>431756</td>\n",
       "      <td>920</td>\n",
       "      <td>8321584</td>\n",
       "      <td>131652</td>\n",
       "      <td>47700.0</td>\n",
       "      <td>8453236</td>\n",
       "      <td>132.015805</td>\n",
       "      <td>48.203877</td>\n",
       "    </tr>\n",
       "    <tr>\n",
       "      <th>NB Gateway Blvd @ Whitemud Drive EB</th>\n",
       "      <td>60</td>\n",
       "      <td>2401216</td>\n",
       "      <td>413168</td>\n",
       "      <td>98872</td>\n",
       "      <td>408</td>\n",
       "      <td>2913664</td>\n",
       "      <td>272816</td>\n",
       "      <td>78200.0</td>\n",
       "      <td>3186480</td>\n",
       "      <td>65.083333</td>\n",
       "      <td>8.490049</td>\n",
       "    </tr>\n",
       "    <tr>\n",
       "      <th>NB Mark Messier Trail @ Campbell Road</th>\n",
       "      <td>70</td>\n",
       "      <td>94353</td>\n",
       "      <td>18375</td>\n",
       "      <td>5523</td>\n",
       "      <td>21</td>\n",
       "      <td>118272</td>\n",
       "      <td>1071</td>\n",
       "      <td>45100.0</td>\n",
       "      <td>119343</td>\n",
       "      <td>59.197917</td>\n",
       "      <td>5.600842</td>\n",
       "    </tr>\n",
       "    <tr>\n",
       "      <th>NB Rossdale Rd @ 97 Ave</th>\n",
       "      <td>50</td>\n",
       "      <td>1092000</td>\n",
       "      <td>189504</td>\n",
       "      <td>52416</td>\n",
       "      <td>336</td>\n",
       "      <td>1334256</td>\n",
       "      <td>7728</td>\n",
       "      <td>54100.0</td>\n",
       "      <td>1341984</td>\n",
       "      <td>55.472222</td>\n",
       "      <td>2.916195</td>\n",
       "    </tr>\n",
       "    <tr>\n",
       "      <th>SB 127 St @ 126 Ave</th>\n",
       "      <td>50</td>\n",
       "      <td>13071024</td>\n",
       "      <td>2495232</td>\n",
       "      <td>741312</td>\n",
       "      <td>1584</td>\n",
       "      <td>16309152</td>\n",
       "      <td>210096</td>\n",
       "      <td>78200.0</td>\n",
       "      <td>16519248</td>\n",
       "      <td>170.709821</td>\n",
       "      <td>95.129278</td>\n",
       "    </tr>\n",
       "    <tr>\n",
       "      <th>SB 170 St @ 118 Ave</th>\n",
       "      <td>60</td>\n",
       "      <td>1780102</td>\n",
       "      <td>282674</td>\n",
       "      <td>79117</td>\n",
       "      <td>183</td>\n",
       "      <td>2142076</td>\n",
       "      <td>7381</td>\n",
       "      <td>66900.0</td>\n",
       "      <td>2149457</td>\n",
       "      <td>81.567130</td>\n",
       "      <td>16.909094</td>\n",
       "    </tr>\n",
       "    <tr>\n",
       "      <th>SB 50 St @ Ellerslie Rd</th>\n",
       "      <td>60</td>\n",
       "      <td>138384</td>\n",
       "      <td>22872</td>\n",
       "      <td>5712</td>\n",
       "      <td>24</td>\n",
       "      <td>166992</td>\n",
       "      <td>864</td>\n",
       "      <td>32900.0</td>\n",
       "      <td>167856</td>\n",
       "      <td>58.283333</td>\n",
       "      <td>3.363838</td>\n",
       "    </tr>\n",
       "    <tr>\n",
       "      <th>SB Mark Messier Trail @ Campbell Road</th>\n",
       "      <td>70</td>\n",
       "      <td>141708</td>\n",
       "      <td>28539</td>\n",
       "      <td>9492</td>\n",
       "      <td>42</td>\n",
       "      <td>179781</td>\n",
       "      <td>777</td>\n",
       "      <td>45100.0</td>\n",
       "      <td>180558</td>\n",
       "      <td>59.708333</td>\n",
       "      <td>7.131760</td>\n",
       "    </tr>\n",
       "    <tr>\n",
       "      <th>WB Yellowhead Tr @ 107 St</th>\n",
       "      <td>70</td>\n",
       "      <td>337275</td>\n",
       "      <td>63225</td>\n",
       "      <td>18825</td>\n",
       "      <td>375</td>\n",
       "      <td>419700</td>\n",
       "      <td>7350</td>\n",
       "      <td>80300.0</td>\n",
       "      <td>427050</td>\n",
       "      <td>59.312500</td>\n",
       "      <td>2.560326</td>\n",
       "    </tr>\n",
       "  </tbody>\n",
       "</table>\n",
       "</div>"
      ],
      "text/plain": [
       "                                        Enforced Speed Limit  \\\n",
       "                                                         max   \n",
       "Location                                                       \n",
       "(53.52090722245281,-113.53885659811326)                   50   \n",
       "(53.57714222000001,-113.53072240999997)                   60   \n",
       "EB Fox Dr @ Fort Edmonton Park Rd                         70   \n",
       "EB Yellowhead Tr @ 107 St                                 70   \n",
       "NB 50 St @ Ellerslie Rd                                   60   \n",
       "NB 82 St @ 112 Ave                                        50   \n",
       "NB Gateway Blvd @ 34 Ave                                  60   \n",
       "NB Gateway Blvd @ Whitemud Drive EB                       60   \n",
       "NB Mark Messier Trail @ Campbell Road                     70   \n",
       "NB Rossdale Rd @ 97 Ave                                   50   \n",
       "SB 127 St @ 126 Ave                                       50   \n",
       "SB 170 St @ 118 Ave                                       60   \n",
       "SB 50 St @ Ellerslie Rd                                   60   \n",
       "SB Mark Messier Trail @ Campbell Road                     70   \n",
       "WB Yellowhead Tr @ 107 St                                 70   \n",
       "\n",
       "                                        11-15 Over Speed Limit  \\\n",
       "                                                           sum   \n",
       "Location                                                         \n",
       "(53.52090722245281,-113.53885659811326)                  19278   \n",
       "(53.57714222000001,-113.53072240999997)                   9620   \n",
       "EB Fox Dr @ Fort Edmonton Park Rd                       417960   \n",
       "EB Yellowhead Tr @ 107 St                               188272   \n",
       "NB 50 St @ Ellerslie Rd                                 188760   \n",
       "NB 82 St @ 112 Ave                                      325210   \n",
       "NB Gateway Blvd @ 34 Ave                               6427580   \n",
       "NB Gateway Blvd @ Whitemud Drive EB                    2401216   \n",
       "NB Mark Messier Trail @ Campbell Road                    94353   \n",
       "NB Rossdale Rd @ 97 Ave                                1092000   \n",
       "SB 127 St @ 126 Ave                                   13071024   \n",
       "SB 170 St @ 118 Ave                                    1780102   \n",
       "SB 50 St @ Ellerslie Rd                                 138384   \n",
       "SB Mark Messier Trail @ Campbell Road                   141708   \n",
       "WB Yellowhead Tr @ 107 St                               337275   \n",
       "\n",
       "                                        16-20 Over Speed Limit  \\\n",
       "                                                           sum   \n",
       "Location                                                         \n",
       "(53.52090722245281,-113.53885659811326)                   2040   \n",
       "(53.57714222000001,-113.53072240999997)                   1036   \n",
       "EB Fox Dr @ Fort Edmonton Park Rd                        92232   \n",
       "EB Yellowhead Tr @ 107 St                                26568   \n",
       "NB 50 St @ Ellerslie Rd                                  37752   \n",
       "NB 82 St @ 112 Ave                                       61370   \n",
       "NB Gateway Blvd @ 34 Ave                               1461328   \n",
       "NB Gateway Blvd @ Whitemud Drive EB                     413168   \n",
       "NB Mark Messier Trail @ Campbell Road                    18375   \n",
       "NB Rossdale Rd @ 97 Ave                                 189504   \n",
       "SB 127 St @ 126 Ave                                    2495232   \n",
       "SB 170 St @ 118 Ave                                     282674   \n",
       "SB 50 St @ Ellerslie Rd                                  22872   \n",
       "SB Mark Messier Trail @ Campbell Road                    28539   \n",
       "WB Yellowhead Tr @ 107 St                                63225   \n",
       "\n",
       "                                        21-50 Over Speed Limit  \\\n",
       "                                                           sum   \n",
       "Location                                                         \n",
       "(53.52090722245281,-113.53885659811326)                    510   \n",
       "(53.57714222000001,-113.53072240999997)                    296   \n",
       "EB Fox Dr @ Fort Edmonton Park Rd                        30384   \n",
       "EB Yellowhead Tr @ 107 St                                 5904   \n",
       "NB 50 St @ Ellerslie Rd                                  12624   \n",
       "NB 82 St @ 112 Ave                                       16660   \n",
       "NB Gateway Blvd @ 34 Ave                                431756   \n",
       "NB Gateway Blvd @ Whitemud Drive EB                      98872   \n",
       "NB Mark Messier Trail @ Campbell Road                     5523   \n",
       "NB Rossdale Rd @ 97 Ave                                  52416   \n",
       "SB 127 St @ 126 Ave                                     741312   \n",
       "SB 170 St @ 118 Ave                                      79117   \n",
       "SB 50 St @ Ellerslie Rd                                   5712   \n",
       "SB Mark Messier Trail @ Campbell Road                     9492   \n",
       "WB Yellowhead Tr @ 107 St                                18825   \n",
       "\n",
       "                                        51+ Over Speed Limit radar_truck_tix  \\\n",
       "                                                         sum             sum   \n",
       "Location                                                                       \n",
       "(53.52090722245281,-113.53885659811326)                    0           21828   \n",
       "(53.57714222000001,-113.53072240999997)                    0           10952   \n",
       "EB Fox Dr @ Fort Edmonton Park Rd                        252          540828   \n",
       "EB Yellowhead Tr @ 107 St                                 82          220826   \n",
       "NB 50 St @ Ellerslie Rd                                   48          239184   \n",
       "NB 82 St @ 112 Ave                                         0          403240   \n",
       "NB Gateway Blvd @ 34 Ave                                 920         8321584   \n",
       "NB Gateway Blvd @ Whitemud Drive EB                      408         2913664   \n",
       "NB Mark Messier Trail @ Campbell Road                     21          118272   \n",
       "NB Rossdale Rd @ 97 Ave                                  336         1334256   \n",
       "SB 127 St @ 126 Ave                                     1584        16309152   \n",
       "SB 170 St @ 118 Ave                                      183         2142076   \n",
       "SB 50 St @ Ellerslie Rd                                   24          166992   \n",
       "SB Mark Messier Trail @ Campbell Road                     42          179781   \n",
       "WB Yellowhead Tr @ 107 St                                375          419700   \n",
       "\n",
       "                                        red_light_tix Average Daily Volume  \\\n",
       "                                                  sum                  max   \n",
       "Location                                                                     \n",
       "(53.52090722245281,-113.53885659811326)             0              32100.0   \n",
       "(53.57714222000001,-113.53072240999997)             0              78200.0   \n",
       "EB Fox Dr @ Fort Edmonton Park Rd                9288             118500.0   \n",
       "EB Yellowhead Tr @ 107 St                         410              80300.0   \n",
       "NB 50 St @ Ellerslie Rd                          1272              32900.0   \n",
       "NB 82 St @ 112 Ave                              49300              28300.0   \n",
       "NB Gateway Blvd @ 34 Ave                       131652              47700.0   \n",
       "NB Gateway Blvd @ Whitemud Drive EB            272816              78200.0   \n",
       "NB Mark Messier Trail @ Campbell Road            1071              45100.0   \n",
       "NB Rossdale Rd @ 97 Ave                          7728              54100.0   \n",
       "SB 127 St @ 126 Ave                            210096              78200.0   \n",
       "SB 170 St @ 118 Ave                              7381              66900.0   \n",
       "SB 50 St @ Ellerslie Rd                           864              32900.0   \n",
       "SB Mark Messier Trail @ Campbell Road             777              45100.0   \n",
       "WB Yellowhead Tr @ 107 St                        7350              80300.0   \n",
       "\n",
       "                                        Total Tickets avgtickets_hr_total  \\\n",
       "                                                  sum                mean   \n",
       "Location                                                                    \n",
       "(53.52090722245281,-113.53885659811326)         21828           88.550503   \n",
       "(53.57714222000001,-113.53072240999997)         10952           74.000000   \n",
       "EB Fox Dr @ Fort Edmonton Park Rd              550116           63.670833   \n",
       "EB Yellowhead Tr @ 107 St                      221236           56.208333   \n",
       "NB 50 St @ Ellerslie Rd                        240456           69.576389   \n",
       "NB 82 St @ 112 Ave                             452540           55.458333   \n",
       "NB Gateway Blvd @ 34 Ave                      8453236          132.015805   \n",
       "NB Gateway Blvd @ Whitemud Drive EB           3186480           65.083333   \n",
       "NB Mark Messier Trail @ Campbell Road          119343           59.197917   \n",
       "NB Rossdale Rd @ 97 Ave                       1341984           55.472222   \n",
       "SB 127 St @ 126 Ave                          16519248          170.709821   \n",
       "SB 170 St @ 118 Ave                           2149457           81.567130   \n",
       "SB 50 St @ Ellerslie Rd                        167856           58.283333   \n",
       "SB Mark Messier Trail @ Campbell Road          180558           59.708333   \n",
       "WB Yellowhead Tr @ 107 St                      427050           59.312500   \n",
       "\n",
       "                                                    \n",
       "                                               std  \n",
       "Location                                            \n",
       "(53.52090722245281,-113.53885659811326)   0.000000  \n",
       "(53.57714222000001,-113.53072240999997)   0.000000  \n",
       "EB Fox Dr @ Fort Edmonton Park Rd        10.129583  \n",
       "EB Yellowhead Tr @ 107 St                 3.636103  \n",
       "NB 50 St @ Ellerslie Rd                  21.708460  \n",
       "NB 82 St @ 112 Ave                        2.378500  \n",
       "NB Gateway Blvd @ 34 Ave                 48.203877  \n",
       "NB Gateway Blvd @ Whitemud Drive EB       8.490049  \n",
       "NB Mark Messier Trail @ Campbell Road     5.600842  \n",
       "NB Rossdale Rd @ 97 Ave                   2.916195  \n",
       "SB 127 St @ 126 Ave                      95.129278  \n",
       "SB 170 St @ 118 Ave                      16.909094  \n",
       "SB 50 St @ Ellerslie Rd                   3.363838  \n",
       "SB Mark Messier Trail @ Campbell Road     7.131760  \n",
       "WB Yellowhead Tr @ 107 St                 2.560326  "
      ]
     },
     "execution_count": 53,
     "metadata": {},
     "output_type": "execute_result"
    }
   ],
   "source": [
    "df50=df_50plus.groupby(\"Location\").agg({'Enforced Speed Limit': ['max'],\n",
    "\n",
    "'11-15 Over Speed Limit': ['sum'],\n",
    "'16-20 Over Speed Limit': ['sum'],\n",
    "'21-50 Over Speed Limit': ['sum'],\n",
    "'51+ Over Speed Limit': ['sum'],\n",
    "'radar_truck_tix': ['sum'],\n",
    "'red_light_tix': ['sum'],\n",
    "'Average Daily Volume': ['max'],\n",
    "'Total Tickets': ['sum'],\n",
    "'avgtickets_hr_total':['mean', 'std']})\n",
    "df50"
   ]
  },
  {
   "cell_type": "markdown",
   "metadata": {},
   "source": [
    "# 15 locations deliver the top 1% of AVG Tickets/hour"
   ]
  },
  {
   "cell_type": "code",
   "execution_count": 31,
   "metadata": {},
   "outputs": [
    {
     "name": "stdout",
     "output_type": "stream",
     "text": [
      "Just for reference:\n"
     ]
    },
    {
     "data": {
      "text/plain": [
       "(None,\n",
       " {'53.52090722245281,-113.53885659811326': '112 St @ 104 Ave',\n",
       "  '53.57714222000001,-113.53072240999997': '121 St @ 122 Ave'})"
      ]
     },
     "execution_count": 31,
     "metadata": {},
     "output_type": "execute_result"
    }
   ],
   "source": [
    "print('Just for reference:'), {'53.52090722245281,-113.53885659811326': '112 St @ 104 Ave', '53.57714222000001,-113.53072240999997':'121 St @ 122 Ave'}"
   ]
  },
  {
   "cell_type": "code",
   "execution_count": null,
   "metadata": {},
   "outputs": [],
   "source": []
  }
 ],
 "metadata": {
  "kernelspec": {
   "display_name": "Python 3.9.7 ('ML_Learn')",
   "language": "python",
   "name": "python3"
  },
  "language_info": {
   "codemirror_mode": {
    "name": "ipython",
    "version": 3
   },
   "file_extension": ".py",
   "mimetype": "text/x-python",
   "name": "python",
   "nbconvert_exporter": "python",
   "pygments_lexer": "ipython3",
   "version": "3.9.7"
  },
  "orig_nbformat": 4,
  "vscode": {
   "interpreter": {
    "hash": "c8a448550236563bbc20c3f9b33e067a4904d9b1623d6be8d3dba976d580c965"
   }
  }
 },
 "nbformat": 4,
 "nbformat_minor": 2
}
