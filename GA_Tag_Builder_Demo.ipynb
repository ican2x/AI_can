{
 "cells": [
  {
   "cell_type": "markdown",
   "metadata": {},
   "source": [
    "<h1>Understanding Google Analytics Tags in A/B Testing Scenarios</h1>\n",
    "\n",
    "<p> Below is a python-based tool for generating Google Analytics Tags for websites** for A/B testing that I've developed to demonstrate HOW tags are formulated in this situation. The real deal here, developed by Google, does not provide an a/b testing scenario but is great for learning: https://ga-dev-tools.web.app/ga4/campaign-url-builder/\n",
    "\n",
    "Tagging is a key data management task for the marketing function. Accurately pointing a sample of randomized customer interactions to an email campaign (for example) and attributing the impact on monitization (dependent variable) with which content they saw, be it Email A or Email B (the independent variable) allows true experimentation in marketing and allows us to deduce causation. Sampling in this was reduces sampling errors by providing a randomized sample of customers and accurately recording their response to a change in an independent variable - some change in email content/layout or image use. Such analytic studies are reliable and can guide decision making with assurance of data quality. </p>"
   ]
  },
  {
   "cell_type": "markdown",
   "metadata": {},
   "source": [
    "## Required Steps\n",
    "\n",
    "- Define the URL\n",
    "- Define Medium\n",
    "- Define Source\n",
    "- Define the Campaign\n",
    "\n",
    "## Optional Steps if A/B Testing or Content-Targeted ads\n",
    "\n",
    "- Define Campaign Content to differentiate ads or links that point to the same URL\n",
    "\n",
    "## Optional Steps if Using Google Ads\n",
    "- If you are using Google Ads add campaign ID\n",
    "- If you are using Google Ads add campaign term to identify paid keywords\n"
   ]
  },
  {
   "cell_type": "markdown",
   "metadata": {},
   "source": [
    "## Step 1. \n",
    "### Define your Marketing Campaign's details"
   ]
  },
  {
   "cell_type": "code",
   "execution_count": 17,
   "metadata": {},
   "outputs": [
    {
     "name": "stdout",
     "output_type": "stream",
     "text": [
      "https://touchai.ai\n"
     ]
    }
   ],
   "source": [
    "# what i the full website URL (e.g. https://www.example.com)\n",
    "url = 'https://touchai.ai'\n",
    "print(url)"
   ]
  },
  {
   "cell_type": "code",
   "execution_count": 18,
   "metadata": {},
   "outputs": [],
   "source": [
    "# what is the marketing medium?\n",
    "medium= 'email'"
   ]
  },
  {
   "cell_type": "code",
   "execution_count": 19,
   "metadata": {},
   "outputs": [],
   "source": [
    "#what is the source or referrer? Google, newsletter, Facebook Ad, Youtube video?\n",
    "source= 'newsletter'"
   ]
  },
  {
   "cell_type": "code",
   "execution_count": 20,
   "metadata": {},
   "outputs": [],
   "source": [
    "#best practice for campaign name includes:\n",
    "# no spaces\n",
    "# small caps, no capitals\n",
    "campaign = 'spring_news_2022'"
   ]
  },
  {
   "cell_type": "code",
   "execution_count": 21,
   "metadata": {},
   "outputs": [],
   "source": [
    "#Campaign Content for A in A/B Testing\n",
    "campaign_content_a = 'call_to_action_q122_1'"
   ]
  },
  {
   "cell_type": "code",
   "execution_count": 22,
   "metadata": {},
   "outputs": [],
   "source": [
    "#Campaign Content for B in A/B Testing\n",
    "campaign_content_b = 'call_to_action_q122_2'"
   ]
  },
  {
   "cell_type": "code",
   "execution_count": 23,
   "metadata": {},
   "outputs": [],
   "source": [
    "#Google Ads add campaign ID\n",
    "google_id= '123xyz'"
   ]
  },
  {
   "cell_type": "code",
   "execution_count": 28,
   "metadata": {},
   "outputs": [],
   "source": [
    "#Paid Search term assiociated with this traffic\n",
    "campaign_term='my_money_is_burning_a_hole_in_my_pocket'"
   ]
  },
  {
   "cell_type": "markdown",
   "metadata": {},
   "source": [
    "<p>Tag only what you need: If your Analytics account is linked to an active Google Ads account and you have auto-tagging enabled (recommended), you don't need to tag your destination URLs in Google Ads. Analytics automatically tracks all of your Google Ads campaigns.  \n",
    "#### If you run paid search campaigns on search engines other than Google (LinkedIn, Facebook/Meta), you'll need to tag the destination URLs for those ads.</p>"
   ]
  },
  {
   "cell_type": "markdown",
   "metadata": {},
   "source": [
    "## Step 2. \n",
    "### Generate campaign URLS in A/B Testing Scenario"
   ]
  },
  {
   "cell_type": "markdown",
   "metadata": {},
   "source": [
    "## URL for A in A/B Testing"
   ]
  },
  {
   "cell_type": "code",
   "execution_count": 31,
   "metadata": {},
   "outputs": [
    {
     "name": "stdout",
     "output_type": "stream",
     "text": [
      "The url_a is:  https://touchai.ai?newsletter&email&spring_news_2022&call_to_action_q122_1&123xyz&my_money_is_burning_a_hole_in_my_pocket\n"
     ]
    }
   ],
   "source": [
    "custom_url_a= url + \"?\" + source + \"&\" + medium + \"&\" + campaign + \"&\" + campaign_content_a + \"&\" + google_id  + \"&\" + campaign_term\n",
    "print(\"The url_a is: \", custom_url_a) "
   ]
  },
  {
   "cell_type": "markdown",
   "metadata": {},
   "source": [
    "## URL for B in A/B Testing"
   ]
  },
  {
   "cell_type": "code",
   "execution_count": 32,
   "metadata": {},
   "outputs": [
    {
     "name": "stdout",
     "output_type": "stream",
     "text": [
      "The url_b is:  https://touchai.ai?newsletter&email&spring_news_2022&call_to_action_q122_2&123xyz&my_money_is_burning_a_hole_in_my_pocket\n"
     ]
    }
   ],
   "source": [
    "custom_url_b = url + \"?\" + source + \"&\" + medium + \"&\" + campaign + \"&\" + campaign_content_b + \"&\" + google_id  + \"&\" + campaign_term\n",
    "print(\"The url_b is: \", custom_url_b) "
   ]
  },
  {
   "cell_type": "markdown",
   "metadata": {},
   "source": [
    "## Consider Using Google Tag Manager \n",
    "\n",
    "<p>https://tagmanager.google.com/\n",
    "\n",
    "This notebook is only intented as a way to understand what goes into accurately tagging this type of campaign. I highly recommend using Google's Tag Manager Platform can really help build out your strategy and utilize the full functioning of GA4, see more https://developers.google.com/tag-platform/tag-manager. Additionally, with it's ability to get people's consent for data collection, it is a critical tool for businesses to ensure compliance with modern Data Governance law.\n",
    "\n",
    "Think of the future of advertising for your business. You will add more mediums of advertisements (email, Google Ads, Facebook Ads) and add additional sources and campaigns (ex within email you add a quarterly newsletter and a Black Friday sale annually). Now add A/B testing within these to better understand users preferences. This is why learning and understand this new marketing reality is imperative!\n",
    "\n",
    "**If this is for an app be sure to use the correct URL generator because the URLs to websites, the Google Play Store, and the Apple App Store are each a little different from each other. This notebook only applies to websites. For Apps use\"\n",
    "\n",
    "    the Google Play URL Builder for generating URLs to apps on the Google Play Store(if adversiting on an android app)\n",
    "    the iOS Campaign Tracking URL Builder for generating URLs to apps on the Apple App Store\n",
    "</p>"
   ]
  },
  {
   "cell_type": "markdown",
   "metadata": {},
   "source": [
    "the Google Play URL Builder for generating URLs to apps on the Google Play Store(if adversiting on an android app) can be found here...https://ga-dev-tools.web.app/ga4/campaign-url-builder/play/\n",
    "\n",
    "It takes in parameters:\n",
    "\n",
    "Ad Network ():\n",
    "App ID (ex. com.example.application):\n",
    "CampaignSource:\n",
    "CampaignMedium:\n",
    "CampaignTerm (paid keywords):\n",
    "CampaignContent:\n",
    "CampaignName\n"
   ]
  }
 ],
 "metadata": {
  "kernelspec": {
   "display_name": "Python 3.8.8 ('base')",
   "language": "python",
   "name": "python3"
  },
  "language_info": {
   "codemirror_mode": {
    "name": "ipython",
    "version": 3
   },
   "file_extension": ".py",
   "mimetype": "text/x-python",
   "name": "python",
   "nbconvert_exporter": "python",
   "pygments_lexer": "ipython3",
   "version": "3.8.8"
  },
  "orig_nbformat": 4,
  "vscode": {
   "interpreter": {
    "hash": "40a7179ff078a5ff0a7932256abcc606cee23d5005e77f0fd3ed94e01ec41f87"
   }
  }
 },
 "nbformat": 4,
 "nbformat_minor": 2
}
