{
 "cells": [
  {
   "cell_type": "markdown",
   "metadata": {},
   "source": [
    "###Find Matching Skills using Regex  "
   ]
  },
  {
   "cell_type": "code",
   "execution_count": 1,
   "metadata": {},
   "outputs": [],
   "source": [
    "import re # python regex module"
   ]
  },
  {
   "cell_type": "markdown",
   "metadata": {},
   "source": [
    "Paste in the corpus or text you want to look through. Be sure to surround text with \"\""
   ]
  },
  {
   "cell_type": "code",
   "execution_count": 2,
   "metadata": {},
   "outputs": [],
   "source": [
    "text=\"Competencies include data discovery through API pulls/ SQL,  data wrangling in Python using many libraries, implementation of ML models using Python based libraries SKLearn, Tensorflow models and AWS Sagemaker/PyTorch, data governance platforms, and data visualisation builds using Tableau, PowerBI and Google Data Studio platforms. Since graduating I\\'ve been working on marketing research for a California based company, NVCAcademy, building marketing data models and dashboards to aid their marketing decisions.  I'm excited to find new opportunities to materially help a business harness  their data for more robust decision making.\"\n"
   ]
  },
  {
   "cell_type": "markdown",
   "metadata": {},
   "source": [
    "Change the patterns you are looking for by replacing the text in \"pattern_I_want\" with your own:"
   ]
  },
  {
   "cell_type": "code",
   "execution_count": 3,
   "metadata": {},
   "outputs": [
    {
     "name": "stdout",
     "output_type": "stream",
     "text": [
      "Patterns ['SQL', 'API', 'Py', 'ML', 'Tableau', 'PowerBI', 'Google Data Studio']\n"
     ]
    }
   ],
   "source": [
    "# REMEMBER TO USE RAW STRING FOR REGEX PATTERNS\n",
    "patterns=[r\"SQL\",  r\"API\", r\"Py\",  r\"ML\", r\"Tableau\", r\"PowerBI\",  r\"Google Data Studio\" ]\n",
    "print(\"Patterns\", patterns)"
   ]
  },
  {
   "cell_type": "code",
   "execution_count": 4,
   "metadata": {},
   "outputs": [
    {
     "name": "stdout",
     "output_type": "stream",
     "text": [
      "Found a match SQL at index: 55\n",
      "Found a match API at index: 44\n",
      "Found a match Py at index: 79\n",
      "Found a match ML at index: 126\n",
      "Found a match Tableau at index: 282\n",
      "Found a match PowerBI at index: 291\n",
      "Found a match Google Data Studio at index: 303\n"
     ]
    }
   ],
   "source": [
    "for pattern in patterns:\n",
    "        match = re.search(pattern, text)\n",
    "\n",
    "        if match:\n",
    "            print('Found a match', match.group(0), 'at index:', match.start())\n",
    "          \n",
    "        else:\n",
    "            print(\"No Match\")"
   ]
  },
  {
   "cell_type": "code",
   "execution_count": null,
   "metadata": {},
   "outputs": [],
   "source": []
  }
 ],
 "metadata": {
  "kernelspec": {
   "display_name": "Python 3.9.13 64-bit (microsoft store)",
   "language": "python",
   "name": "python3"
  },
  "language_info": {
   "codemirror_mode": {
    "name": "ipython",
    "version": 3
   },
   "file_extension": ".py",
   "mimetype": "text/x-python",
   "name": "python",
   "nbconvert_exporter": "python",
   "pygments_lexer": "ipython3",
   "version": "3.9.13"
  },
  "orig_nbformat": 4,
  "vscode": {
   "interpreter": {
    "hash": "372ad2d6083ec09d73e2f70f06338723686478f377cfcafc6d9d38d0246d0036"
   }
  }
 },
 "nbformat": 4,
 "nbformat_minor": 2
}
