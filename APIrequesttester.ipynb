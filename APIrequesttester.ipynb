{
 "cells": [
  {
   "cell_type": "markdown",
   "id": "7d40e90e",
   "metadata": {},
   "source": [
    "I am sharing this code (I neither wrote nor changed any of it) because everyone deserves to know how to get data using the Requests library as a way to get data and interact online. Every person, every teenager, even every child needs to be taught how to use requests in python."
   ]
  },
  {
   "cell_type": "code",
   "execution_count": 1,
   "id": "e9cefade",
   "metadata": {},
   "outputs": [
    {
     "name": "stdout",
     "output_type": "stream",
     "text": [
      "Requirement already satisfied: requests in c:\\users\\mom\\anaconda3\\envs\\ai_ml\\lib\\site-packages (2.26.0)\n",
      "Requirement already satisfied: certifi>=2017.4.17 in c:\\users\\mom\\anaconda3\\envs\\ai_ml\\lib\\site-packages (from requests) (2021.10.8)\n",
      "Requirement already satisfied: idna<4,>=2.5 in c:\\users\\mom\\anaconda3\\envs\\ai_ml\\lib\\site-packages (from requests) (3.1)\n",
      "Requirement already satisfied: urllib3<1.27,>=1.21.1 in c:\\users\\mom\\anaconda3\\envs\\ai_ml\\lib\\site-packages (from requests) (1.26.7)\n",
      "Requirement already satisfied: charset-normalizer~=2.0.0 in c:\\users\\mom\\anaconda3\\envs\\ai_ml\\lib\\site-packages (from requests) (2.0.9)\n",
      "Note: you may need to restart the kernel to use updated packages.\n"
     ]
    }
   ],
   "source": [
    "pip install requests"
   ]
  },
  {
   "cell_type": "code",
   "execution_count": 5,
   "id": "1249455f",
   "metadata": {},
   "outputs": [
    {
     "data": {
      "text/plain": [
       "{'userId': 1, 'id': 1, 'title': 'delectus aut autem', 'completed': False}"
      ]
     },
     "execution_count": 5,
     "metadata": {},
     "output_type": "execute_result"
    }
   ],
   "source": [
    "import requests\n",
    "api_url = \"https://jsonplaceholder.typicode.com/todos/1\"\n",
    "response = requests.get(api_url)\n",
    "response.json()\n",
    "\n",
    "\n",
    "\n"
   ]
  },
  {
   "cell_type": "markdown",
   "id": "d5f5a38f",
   "metadata": {},
   "source": [
    "JSONPlaceholder - Free Fake REST API"
   ]
  },
  {
   "cell_type": "code",
   "execution_count": 6,
   "id": "feb4d689",
   "metadata": {},
   "outputs": [
    {
     "data": {
      "text/plain": [
       "{'userId': 1, 'title': 'Buy milk', 'completed': False, 'id': 201}"
      ]
     },
     "execution_count": 6,
     "metadata": {},
     "output_type": "execute_result"
    }
   ],
   "source": [
    "import requests \n",
    "api_url = \"https://jsonplaceholder.typicode.com/todos\" \n",
    "todo = {\"userId\": 1, \"title\": \"Buy milk\", \"completed\": False} \n",
    "response = requests.post(api_url, json=todo) \n",
    "response.json()\n"
   ]
  }
 ],
 "metadata": {
  "kernelspec": {
   "display_name": "Python 3.9.13 64-bit (microsoft store)",
   "language": "python",
   "name": "python3"
  },
  "language_info": {
   "codemirror_mode": {
    "name": "ipython",
    "version": 3
   },
   "file_extension": ".py",
   "mimetype": "text/x-python",
   "name": "python",
   "nbconvert_exporter": "python",
   "pygments_lexer": "ipython3",
   "version": "3.9.13"
  },
  "vscode": {
   "interpreter": {
    "hash": "372ad2d6083ec09d73e2f70f06338723686478f377cfcafc6d9d38d0246d0036"
   }
  }
 },
 "nbformat": 4,
 "nbformat_minor": 5
}
