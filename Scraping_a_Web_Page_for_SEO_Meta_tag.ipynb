{
 "cells": [
  {
   "cell_type": "markdown",
   "metadata": {},
   "source": [
    "# Scrape to check web page's Meta Tag for SEO optimization\n",
    "\n",
    "## Main Steps\n",
    "\n",
    "- Import necessary libraries\n",
    "- Define the URL\n",
    "- Make a request to retrieve HTML codes\n",
    "- Make the soup\n",
    "- Look at more than one site and write a function that loops through them all\n",
    "- Store the results in a dataframe or export to .csv"
   ]
  },
  {
   "cell_type": "markdown",
   "metadata": {},
   "source": [
    "## Step 1. Import necessary libraries"
   ]
  },
  {
   "cell_type": "code",
   "execution_count": 2,
   "metadata": {},
   "outputs": [],
   "source": [
    "import requests\n",
    "from bs4 import BeautifulSoup\n",
    "import pandas as pd"
   ]
  },
  {
   "cell_type": "markdown",
   "metadata": {},
   "source": [
    "## Step 2.  Make a simple request and retrieve response contents"
   ]
  },
  {
   "cell_type": "markdown",
   "metadata": {},
   "source": [
    "### Define your URL"
   ]
  },
  {
   "cell_type": "code",
   "execution_count": 86,
   "metadata": {},
   "outputs": [
    {
     "name": "stdout",
     "output_type": "stream",
     "text": [
      "https://calgaryherald.com/\n"
     ]
    }
   ],
   "source": [
    "# Indicate the base URL\n",
    "url = 'https://edmontonjournal.com/'\n",
    "print(url)"
   ]
  },
  {
   "cell_type": "markdown",
   "metadata": {},
   "source": [
    "### 2.2 Make a simple GET request to retrieve HTML codes"
   ]
  },
  {
   "cell_type": "code",
   "execution_count": 87,
   "metadata": {},
   "outputs": [
    {
     "name": "stdout",
     "output_type": "stream",
     "text": [
      "https://calgaryherald.com/\n"
     ]
    }
   ],
   "source": [
    "# Make HTTP requests\n",
    "r = requests.get(url)\n",
    "\n",
    "# Retrieve response contents\n",
    "c = r.content\n",
    "print(url)"
   ]
  },
  {
   "cell_type": "markdown",
   "metadata": {},
   "source": [
    "## Step 3. Make the soup"
   ]
  },
  {
   "cell_type": "code",
   "execution_count": 88,
   "metadata": {},
   "outputs": [
    {
     "data": {
      "text/plain": [
       "<title>Home | Calgary Herald</title>"
      ]
     },
     "execution_count": 88,
     "metadata": {},
     "output_type": "execute_result"
    }
   ],
   "source": [
    "soup = BeautifulSoup(c)\n",
    "soup.find('title')"
   ]
  },
  {
   "cell_type": "code",
   "execution_count": 66,
   "metadata": {},
   "outputs": [
    {
     "name": "stdout",
     "output_type": "stream",
     "text": [
      "[<title>Home | Calgary Herald</title>, <title id=\"chLogo\">Calgary Herald</title>, <title>User</title>]\n"
     ]
    }
   ],
   "source": [
    "meta_tag = soup.find_all('title')\n",
    "print(meta_tag)"
   ]
  },
  {
   "cell_type": "markdown",
   "metadata": {},
   "source": [
    "## Step 4. Now let's look at a whole list of pages to check. Add more, or look at entire lists of other sites NOT related to Canadian news!"
   ]
  },
  {
   "cell_type": "code",
   "execution_count": 140,
   "metadata": {},
   "outputs": [],
   "source": [
    "urls=['https://edmontonjournal.com/', 'https://calgaryherald.com/', 'https://nationalpost.com/', 'https://www.theglobeandmail.com/', 'https://vancouversun.com/', \"http://www.winnipegfreepress.com/\", \"https://www.saltwire.com/halifax/\", \"https://ottawacitizen.com/\"   ]"
   ]
  },
  {
   "cell_type": "code",
   "execution_count": 135,
   "metadata": {},
   "outputs": [],
   "source": [
    "def get_meta(url):\n",
    "    r = requests.get(url)\n",
    "    # Retrieve response contents\n",
    "    c = r.content\n",
    "    # make the soup\n",
    "    soup = BeautifulSoup(c)\n",
    "    meta_tag= soup.find('title')\n",
    "    return meta_tag"
   ]
  },
  {
   "cell_type": "code",
   "execution_count": 141,
   "metadata": {},
   "outputs": [
    {
     "name": "stdout",
     "output_type": "stream",
     "text": [
      "https://edmontonjournal.com/\n",
      "https://calgaryherald.com/\n",
      "https://nationalpost.com/\n",
      "https://www.theglobeandmail.com/\n",
      "https://vancouversun.com/\n",
      "http://www.winnipegfreepress.com/\n",
      "https://www.saltwire.com/halifax/\n",
      "https://ottawacitizen.com/\n"
     ]
    }
   ],
   "source": [
    "tags = []\n",
    "#n=(0:len(urls))\n",
    "for i in urls:\n",
    "    print(i)\n",
    "    meta_tag = get_meta(i)\n",
    "    tags.append(meta_tag)"
   ]
  },
  {
   "cell_type": "code",
   "execution_count": 143,
   "metadata": {},
   "outputs": [],
   "source": [
    "df=pd.DataFrame(tags)"
   ]
  },
  {
   "cell_type": "code",
   "execution_count": 145,
   "metadata": {},
   "outputs": [
    {
     "data": {
      "text/html": [
       "<div>\n",
       "<style scoped>\n",
       "    .dataframe tbody tr th:only-of-type {\n",
       "        vertical-align: middle;\n",
       "    }\n",
       "\n",
       "    .dataframe tbody tr th {\n",
       "        vertical-align: top;\n",
       "    }\n",
       "\n",
       "    .dataframe thead th {\n",
       "        text-align: right;\n",
       "    }\n",
       "</style>\n",
       "<table border=\"1\" class=\"dataframe\">\n",
       "  <thead>\n",
       "    <tr style=\"text-align: right;\">\n",
       "      <th></th>\n",
       "      <th>0</th>\n",
       "    </tr>\n",
       "  </thead>\n",
       "  <tbody>\n",
       "    <tr>\n",
       "      <th>0</th>\n",
       "      <td>Home | Edmonton Journal</td>\n",
       "    </tr>\n",
       "    <tr>\n",
       "      <th>1</th>\n",
       "      <td>Home | Calgary Herald</td>\n",
       "    </tr>\n",
       "    <tr>\n",
       "      <th>2</th>\n",
       "      <td>Home | The National Post Home Page | National ...</td>\n",
       "    </tr>\n",
       "    <tr>\n",
       "      <th>3</th>\n",
       "      <td>The Globe and Mail: Canadian, World, Politics ...</td>\n",
       "    </tr>\n",
       "    <tr>\n",
       "      <th>4</th>\n",
       "      <td>Home | Vancouver Sun</td>\n",
       "    </tr>\n",
       "    <tr>\n",
       "      <th>5</th>\n",
       "      <td>Winnipeg Free Press – Breaking News, Sports, M...</td>\n",
       "    </tr>\n",
       "    <tr>\n",
       "      <th>6</th>\n",
       "      <td>SaltWire | Halifax</td>\n",
       "    </tr>\n",
       "    <tr>\n",
       "      <th>7</th>\n",
       "      <td>Home | Ottawa Citizen</td>\n",
       "    </tr>\n",
       "  </tbody>\n",
       "</table>\n",
       "</div>"
      ],
      "text/plain": [
       "                                                   0\n",
       "0                            Home | Edmonton Journal\n",
       "1                              Home | Calgary Herald\n",
       "2  Home | The National Post Home Page | National ...\n",
       "3  The Globe and Mail: Canadian, World, Politics ...\n",
       "4                               Home | Vancouver Sun\n",
       "5  Winnipeg Free Press – Breaking News, Sports, M...\n",
       "6                                 SaltWire | Halifax\n",
       "7                              Home | Ottawa Citizen"
      ]
     },
     "execution_count": 145,
     "metadata": {},
     "output_type": "execute_result"
    }
   ],
   "source": [
    "df.head(10)"
   ]
  },
  {
   "cell_type": "code",
   "execution_count": null,
   "metadata": {},
   "outputs": [],
   "source": [
    "tags.to_csv('meta_extracted.csv')"
   ]
  }
 ],
 "metadata": {
  "kernelspec": {
   "display_name": "Python 3.9.13 64-bit (microsoft store)",
   "language": "python",
   "name": "python3"
  },
  "language_info": {
   "codemirror_mode": {
    "name": "ipython",
    "version": 3
   },
   "file_extension": ".py",
   "mimetype": "text/x-python",
   "name": "python",
   "nbconvert_exporter": "python",
   "pygments_lexer": "ipython3",
   "version": "3.9.13"
  },
  "vscode": {
   "interpreter": {
    "hash": "372ad2d6083ec09d73e2f70f06338723686478f377cfcafc6d9d38d0246d0036"
   }
  }
 },
 "nbformat": 4,
 "nbformat_minor": 2
}
